{
 "cells": [
  {
   "cell_type": "markdown",
   "id": "a4663416",
   "metadata": {
    "id": "a4663416"
   },
   "source": [
    "# ĐỀ TÀI: WORD2VEC\n"
   ]
  },
  {
   "cell_type": "markdown",
   "id": "f055a7e5",
   "metadata": {
    "id": "f055a7e5"
   },
   "source": [
    "## Thực nghiệm 1: biểu diễn văn bản\n",
    "\n",
    "- TF-IDF\n",
    "- Word2vec\n",
    "- Doc2vec\n"
   ]
  },
  {
   "cell_type": "markdown",
   "id": "300e4a90",
   "metadata": {
    "id": "300e4a90"
   },
   "source": [
    "### 1. Tiền xử lý dữ liệu\n"
   ]
  },
  {
   "cell_type": "markdown",
   "id": "26dc0047",
   "metadata": {
    "id": "26dc0047"
   },
   "source": [
    "#### Tải thư viện cần thiết\n"
   ]
  },
  {
   "cell_type": "code",
   "execution_count": 1,
   "id": "2806a6ec",
   "metadata": {
    "colab": {
     "base_uri": "https://localhost:8080/",
     "height": 1000
    },
    "id": "2806a6ec",
    "outputId": "9a8849c1-d587-44fb-e231-acc9aba61a9c"
   },
   "outputs": [
    {
     "name": "stdout",
     "output_type": "stream",
     "text": [
      "Requirement already satisfied: pandas in /Users/yoliephan/Desktop/Doan_khaithactt_Nhom8/.venv/lib/python3.12/site-packages (2.3.1)\n",
      "Requirement already satisfied: numpy>=1.26.0 in /Users/yoliephan/Desktop/Doan_khaithactt_Nhom8/.venv/lib/python3.12/site-packages (from pandas) (1.26.4)\n",
      "Requirement already satisfied: python-dateutil>=2.8.2 in /Users/yoliephan/Desktop/Doan_khaithactt_Nhom8/.venv/lib/python3.12/site-packages (from pandas) (2.9.0.post0)\n",
      "Requirement already satisfied: pytz>=2020.1 in /Users/yoliephan/Desktop/Doan_khaithactt_Nhom8/.venv/lib/python3.12/site-packages (from pandas) (2025.2)\n",
      "Requirement already satisfied: tzdata>=2022.7 in /Users/yoliephan/Desktop/Doan_khaithactt_Nhom8/.venv/lib/python3.12/site-packages (from pandas) (2025.2)\n",
      "Requirement already satisfied: six>=1.5 in /Users/yoliephan/Desktop/Doan_khaithactt_Nhom8/.venv/lib/python3.12/site-packages (from python-dateutil>=2.8.2->pandas) (1.17.0)\n",
      "Note: you may need to restart the kernel to use updated packages.\n",
      "Note: you may need to restart the kernel to use updated packages.\n",
      "Requirement already satisfied: openpyxl in /Users/yoliephan/Desktop/Doan_khaithactt_Nhom8/.venv/lib/python3.12/site-packages (3.1.5)\n",
      "Requirement already satisfied: et-xmlfile in /Users/yoliephan/Desktop/Doan_khaithactt_Nhom8/.venv/lib/python3.12/site-packages (from openpyxl) (2.0.0)\n",
      "Requirement already satisfied: openpyxl in /Users/yoliephan/Desktop/Doan_khaithactt_Nhom8/.venv/lib/python3.12/site-packages (3.1.5)\n",
      "Requirement already satisfied: et-xmlfile in /Users/yoliephan/Desktop/Doan_khaithactt_Nhom8/.venv/lib/python3.12/site-packages (from openpyxl) (2.0.0)\n",
      "Note: you may need to restart the kernel to use updated packages.\n",
      "Note: you may need to restart the kernel to use updated packages.\n",
      "Requirement already satisfied: scikit-learn in /Users/yoliephan/Desktop/Doan_khaithactt_Nhom8/.venv/lib/python3.12/site-packages (1.7.1)\n",
      "Requirement already satisfied: numpy>=1.22.0 in /Users/yoliephan/Desktop/Doan_khaithactt_Nhom8/.venv/lib/python3.12/site-packages (from scikit-learn) (1.26.4)\n",
      "Requirement already satisfied: scipy>=1.8.0 in /Users/yoliephan/Desktop/Doan_khaithactt_Nhom8/.venv/lib/python3.12/site-packages (from scikit-learn) (1.13.1)\n",
      "Requirement already satisfied: joblib>=1.2.0 in /Users/yoliephan/Desktop/Doan_khaithactt_Nhom8/.venv/lib/python3.12/site-packages (from scikit-learn) (1.5.1)\n",
      "Requirement already satisfied: threadpoolctl>=3.1.0 in /Users/yoliephan/Desktop/Doan_khaithactt_Nhom8/.venv/lib/python3.12/site-packages (from scikit-learn) (3.6.0)\n",
      "Requirement already satisfied: scikit-learn in /Users/yoliephan/Desktop/Doan_khaithactt_Nhom8/.venv/lib/python3.12/site-packages (1.7.1)\n",
      "Requirement already satisfied: numpy>=1.22.0 in /Users/yoliephan/Desktop/Doan_khaithactt_Nhom8/.venv/lib/python3.12/site-packages (from scikit-learn) (1.26.4)\n",
      "Requirement already satisfied: scipy>=1.8.0 in /Users/yoliephan/Desktop/Doan_khaithactt_Nhom8/.venv/lib/python3.12/site-packages (from scikit-learn) (1.13.1)\n",
      "Requirement already satisfied: joblib>=1.2.0 in /Users/yoliephan/Desktop/Doan_khaithactt_Nhom8/.venv/lib/python3.12/site-packages (from scikit-learn) (1.5.1)\n",
      "Requirement already satisfied: threadpoolctl>=3.1.0 in /Users/yoliephan/Desktop/Doan_khaithactt_Nhom8/.venv/lib/python3.12/site-packages (from scikit-learn) (3.6.0)\n",
      "Note: you may need to restart the kernel to use updated packages.\n",
      "Note: you may need to restart the kernel to use updated packages.\n",
      "Requirement already satisfied: matplotlib in /Users/yoliephan/Desktop/Doan_khaithactt_Nhom8/.venv/lib/python3.12/site-packages (3.10.5)\n",
      "Requirement already satisfied: contourpy>=1.0.1 in /Users/yoliephan/Desktop/Doan_khaithactt_Nhom8/.venv/lib/python3.12/site-packages (from matplotlib) (1.3.3)\n",
      "Requirement already satisfied: cycler>=0.10 in /Users/yoliephan/Desktop/Doan_khaithactt_Nhom8/.venv/lib/python3.12/site-packages (from matplotlib) (0.12.1)\n",
      "Requirement already satisfied: fonttools>=4.22.0 in /Users/yoliephan/Desktop/Doan_khaithactt_Nhom8/.venv/lib/python3.12/site-packages (from matplotlib) (4.59.0)\n",
      "Requirement already satisfied: kiwisolver>=1.3.1 in /Users/yoliephan/Desktop/Doan_khaithactt_Nhom8/.venv/lib/python3.12/site-packages (from matplotlib) (1.4.8)\n",
      "Requirement already satisfied: numpy>=1.23 in /Users/yoliephan/Desktop/Doan_khaithactt_Nhom8/.venv/lib/python3.12/site-packages (from matplotlib) (1.26.4)\n",
      "Requirement already satisfied: packaging>=20.0 in /Users/yoliephan/Desktop/Doan_khaithactt_Nhom8/.venv/lib/python3.12/site-packages (from matplotlib) (25.0)\n",
      "Requirement already satisfied: pillow>=8 in /Users/yoliephan/Desktop/Doan_khaithactt_Nhom8/.venv/lib/python3.12/site-packages (from matplotlib) (11.3.0)\n",
      "Requirement already satisfied: pyparsing>=2.3.1 in /Users/yoliephan/Desktop/Doan_khaithactt_Nhom8/.venv/lib/python3.12/site-packages (from matplotlib) (3.2.3)\n",
      "Requirement already satisfied: python-dateutil>=2.7 in /Users/yoliephan/Desktop/Doan_khaithactt_Nhom8/.venv/lib/python3.12/site-packages (from matplotlib) (2.9.0.post0)\n",
      "Requirement already satisfied: six>=1.5 in /Users/yoliephan/Desktop/Doan_khaithactt_Nhom8/.venv/lib/python3.12/site-packages (from python-dateutil>=2.7->matplotlib) (1.17.0)\n",
      "Requirement already satisfied: matplotlib in /Users/yoliephan/Desktop/Doan_khaithactt_Nhom8/.venv/lib/python3.12/site-packages (3.10.5)\n",
      "Requirement already satisfied: contourpy>=1.0.1 in /Users/yoliephan/Desktop/Doan_khaithactt_Nhom8/.venv/lib/python3.12/site-packages (from matplotlib) (1.3.3)\n",
      "Requirement already satisfied: cycler>=0.10 in /Users/yoliephan/Desktop/Doan_khaithactt_Nhom8/.venv/lib/python3.12/site-packages (from matplotlib) (0.12.1)\n",
      "Requirement already satisfied: fonttools>=4.22.0 in /Users/yoliephan/Desktop/Doan_khaithactt_Nhom8/.venv/lib/python3.12/site-packages (from matplotlib) (4.59.0)\n",
      "Requirement already satisfied: kiwisolver>=1.3.1 in /Users/yoliephan/Desktop/Doan_khaithactt_Nhom8/.venv/lib/python3.12/site-packages (from matplotlib) (1.4.8)\n",
      "Requirement already satisfied: numpy>=1.23 in /Users/yoliephan/Desktop/Doan_khaithactt_Nhom8/.venv/lib/python3.12/site-packages (from matplotlib) (1.26.4)\n",
      "Requirement already satisfied: packaging>=20.0 in /Users/yoliephan/Desktop/Doan_khaithactt_Nhom8/.venv/lib/python3.12/site-packages (from matplotlib) (25.0)\n",
      "Requirement already satisfied: pillow>=8 in /Users/yoliephan/Desktop/Doan_khaithactt_Nhom8/.venv/lib/python3.12/site-packages (from matplotlib) (11.3.0)\n",
      "Requirement already satisfied: pyparsing>=2.3.1 in /Users/yoliephan/Desktop/Doan_khaithactt_Nhom8/.venv/lib/python3.12/site-packages (from matplotlib) (3.2.3)\n",
      "Requirement already satisfied: python-dateutil>=2.7 in /Users/yoliephan/Desktop/Doan_khaithactt_Nhom8/.venv/lib/python3.12/site-packages (from matplotlib) (2.9.0.post0)\n",
      "Requirement already satisfied: six>=1.5 in /Users/yoliephan/Desktop/Doan_khaithactt_Nhom8/.venv/lib/python3.12/site-packages (from python-dateutil>=2.7->matplotlib) (1.17.0)\n",
      "Note: you may need to restart the kernel to use updated packages.\n",
      "Note: you may need to restart the kernel to use updated packages.\n",
      "Requirement already satisfied: gensim in /Users/yoliephan/Desktop/Doan_khaithactt_Nhom8/.venv/lib/python3.12/site-packages (4.3.3)\n",
      "Requirement already satisfied: numpy<2.0,>=1.18.5 in /Users/yoliephan/Desktop/Doan_khaithactt_Nhom8/.venv/lib/python3.12/site-packages (from gensim) (1.26.4)\n",
      "Requirement already satisfied: scipy<1.14.0,>=1.7.0 in /Users/yoliephan/Desktop/Doan_khaithactt_Nhom8/.venv/lib/python3.12/site-packages (from gensim) (1.13.1)\n",
      "Requirement already satisfied: smart-open>=1.8.1 in /Users/yoliephan/Desktop/Doan_khaithactt_Nhom8/.venv/lib/python3.12/site-packages (from gensim) (7.3.0.post1)\n",
      "Requirement already satisfied: wrapt in /Users/yoliephan/Desktop/Doan_khaithactt_Nhom8/.venv/lib/python3.12/site-packages (from smart-open>=1.8.1->gensim) (1.17.2)\n",
      "Requirement already satisfied: gensim in /Users/yoliephan/Desktop/Doan_khaithactt_Nhom8/.venv/lib/python3.12/site-packages (4.3.3)\n",
      "Requirement already satisfied: numpy<2.0,>=1.18.5 in /Users/yoliephan/Desktop/Doan_khaithactt_Nhom8/.venv/lib/python3.12/site-packages (from gensim) (1.26.4)\n",
      "Requirement already satisfied: scipy<1.14.0,>=1.7.0 in /Users/yoliephan/Desktop/Doan_khaithactt_Nhom8/.venv/lib/python3.12/site-packages (from gensim) (1.13.1)\n",
      "Requirement already satisfied: smart-open>=1.8.1 in /Users/yoliephan/Desktop/Doan_khaithactt_Nhom8/.venv/lib/python3.12/site-packages (from gensim) (7.3.0.post1)\n",
      "Requirement already satisfied: wrapt in /Users/yoliephan/Desktop/Doan_khaithactt_Nhom8/.venv/lib/python3.12/site-packages (from smart-open>=1.8.1->gensim) (1.17.2)\n",
      "Note: you may need to restart the kernel to use updated packages.\n",
      "Note: you may need to restart the kernel to use updated packages.\n",
      "Requirement already satisfied: nltk in /Users/yoliephan/Desktop/Doan_khaithactt_Nhom8/.venv/lib/python3.12/site-packages (3.9.1)\n",
      "Requirement already satisfied: click in /Users/yoliephan/Desktop/Doan_khaithactt_Nhom8/.venv/lib/python3.12/site-packages (from nltk) (8.2.2)\n",
      "Requirement already satisfied: joblib in /Users/yoliephan/Desktop/Doan_khaithactt_Nhom8/.venv/lib/python3.12/site-packages (from nltk) (1.5.1)\n",
      "Requirement already satisfied: regex>=2021.8.3 in /Users/yoliephan/Desktop/Doan_khaithactt_Nhom8/.venv/lib/python3.12/site-packages (from nltk) (2025.7.34)\n",
      "Requirement already satisfied: tqdm in /Users/yoliephan/Desktop/Doan_khaithactt_Nhom8/.venv/lib/python3.12/site-packages (from nltk) (4.67.1)\n",
      "Requirement already satisfied: nltk in /Users/yoliephan/Desktop/Doan_khaithactt_Nhom8/.venv/lib/python3.12/site-packages (3.9.1)\n",
      "Requirement already satisfied: click in /Users/yoliephan/Desktop/Doan_khaithactt_Nhom8/.venv/lib/python3.12/site-packages (from nltk) (8.2.2)\n",
      "Requirement already satisfied: joblib in /Users/yoliephan/Desktop/Doan_khaithactt_Nhom8/.venv/lib/python3.12/site-packages (from nltk) (1.5.1)\n",
      "Requirement already satisfied: regex>=2021.8.3 in /Users/yoliephan/Desktop/Doan_khaithactt_Nhom8/.venv/lib/python3.12/site-packages (from nltk) (2025.7.34)\n",
      "Requirement already satisfied: tqdm in /Users/yoliephan/Desktop/Doan_khaithactt_Nhom8/.venv/lib/python3.12/site-packages (from nltk) (4.67.1)\n",
      "Note: you may need to restart the kernel to use updated packages.\n",
      "Note: you may need to restart the kernel to use updated packages.\n"
     ]
    }
   ],
   "source": [
    "%pip install pandas\n",
    "%pip install openpyxl\n",
    "%pip install scikit-learn\n",
    "%pip install matplotlib\n",
    "%pip install gensim\n",
    "%pip install nltk"
   ]
  },
  {
   "cell_type": "code",
   "execution_count": 2,
   "id": "6d1f4b14",
   "metadata": {},
   "outputs": [
    {
     "name": "stdout",
     "output_type": "stream",
     "text": [
      "Kiểm tra và cài đặt certificates...\n",
      "Certificates đã được cập nhật\n",
      "Tìm thấy script certificates: /Applications/Python 3.12/Install Certificates.command\n",
      " -- pip install --upgrade certifi\n",
      "Requirement already satisfied: certifi in /Library/Frameworks/Python.framework/Versions/3.12/lib/python3.12/site-packages (2025.4.26)\n",
      "Collecting certifi\n",
      "  Using cached certifi-2025.7.14-py3-none-any.whl.metadata (2.4 kB)\n",
      "Using cached certifi-2025.7.14-py3-none-any.whl (162 kB)\n",
      "Installing collected packages: certifi\n",
      "  Attempting uninstall: certifi\n",
      "    Found existing installation: certifi 2025.4.26\n",
      "    Uninstalling certifi-2025.4.26:\n",
      "      Successfully uninstalled certifi-2025.4.26\n",
      "Successfully installed certifi-2025.7.14\n",
      " -- removing any existing file or link\n",
      " -- creating symlink to certifi certificate bundle\n",
      " -- setting permissions\n",
      " -- update complete\n",
      "Đã chạy Install Certificates thành công\n",
      "Hoàn thành kiểm tra certificates\n"
     ]
    }
   ],
   "source": [
    "# Cài đặt certificates cho macOS (chỉ chạy nếu cần thiết)\n",
    "import subprocess\n",
    "import sys\n",
    "import os\n",
    "\n",
    "print(\"Kiểm tra và cài đặt certificates...\")\n",
    "\n",
    "try:\n",
    "    # Cập nhật certificates\n",
    "    result = subprocess.run([\n",
    "        sys.executable, \"-m\", \"pip\", \"install\", \"--upgrade\", \"certifi\"\n",
    "    ], capture_output=True, text=True)\n",
    "    \n",
    "    if result.returncode == 0:\n",
    "        print(\"Certificates đã được cập nhật\")\n",
    "    else:\n",
    "        print(f\"Lỗi cập nhật certificates: {result.stderr}\")\n",
    "        \n",
    "    # Kiểm tra các script Install Certificates\n",
    "    python_paths = [\n",
    "        \"/Applications/Python 3.12/Install Certificates.command\",\n",
    "        \"/Applications/Python 3.11/Install Certificates.command\", \n",
    "        \"/Applications/Python 3.10/Install Certificates.command\",\n",
    "        \"/Applications/Python 3.9/Install Certificates.command\"\n",
    "    ]\n",
    "    \n",
    "    for path in python_paths:\n",
    "        if os.path.exists(path):\n",
    "            print(f\"Tìm thấy script certificates: {path}\")\n",
    "            try:\n",
    "                subprocess.run([path], check=True)\n",
    "                print(\"Đã chạy Install Certificates thành công\")\n",
    "                break\n",
    "            except Exception as e:\n",
    "                print(f\"Lỗi chạy script: {e}\")\n",
    "    \n",
    "except Exception as e:\n",
    "    print(f\"Lỗi cài đặt certificates: {e}\")\n",
    "\n",
    "print(\"Hoàn thành kiểm tra certificates\")"
   ]
  },
  {
   "cell_type": "code",
   "execution_count": 3,
   "id": "65d87053",
   "metadata": {},
   "outputs": [
    {
     "name": "stdout",
     "output_type": "stream",
     "text": [
      "NLTK punkt đã có sẵn\n"
     ]
    }
   ],
   "source": [
    "# Tải NLTK data thủ công nếu SSL không hoạt động\n",
    "import urllib.request\n",
    "import zipfile\n",
    "import os\n",
    "\n",
    "def download_nltk_data():\n",
    "    \"\"\"Tải NLTK punkt data thủ công\"\"\"\n",
    "    nltk_data_dir = os.path.expanduser('~/nltk_data/tokenizers')\n",
    "    os.makedirs(nltk_data_dir, exist_ok=True)\n",
    "    \n",
    "    punkt_url = \"https://raw.githubusercontent.com/nltk/nltk_data/gh-pages/packages/tokenizers/punkt.zip\"\n",
    "    punkt_path = os.path.join(nltk_data_dir, \"punkt.zip\")\n",
    "    \n",
    "    try:\n",
    "        print(\"Đang tải xuống punkt tokenizer từ GitHub...\")\n",
    "        \n",
    "        # Tạo SSL context không xác thực\n",
    "        import ssl\n",
    "        ssl_context = ssl.create_default_context()\n",
    "        ssl_context.check_hostname = False\n",
    "        ssl_context.verify_mode = ssl.CERT_NONE\n",
    "        \n",
    "        # Tải file\n",
    "        request = urllib.request.Request(punkt_url)\n",
    "        with urllib.request.urlopen(request, context=ssl_context) as response:\n",
    "            with open(punkt_path, 'wb') as f:\n",
    "                f.write(response.read())\n",
    "        \n",
    "        # Giải nén\n",
    "        with zipfile.ZipFile(punkt_path, 'r') as zip_ref:\n",
    "            zip_ref.extractall(nltk_data_dir)\n",
    "        \n",
    "        # Xóa file zip\n",
    "        os.remove(punkt_path)\n",
    "        print(\"Tải xuống và cài đặt punkt thành công!\")\n",
    "        return True\n",
    "        \n",
    "    except Exception as e:\n",
    "        print(f\"Lỗi tải xuống thủ công: {e}\")\n",
    "        return False\n",
    "\n",
    "# Thử tải nếu cần\n",
    "try:\n",
    "    import nltk\n",
    "    nltk.data.find('tokenizers/punkt')\n",
    "    print(\"NLTK punkt đã có sẵn\")\n",
    "except:\n",
    "    print(\"Cần tải NLTK punkt...\")\n",
    "    if download_nltk_data():\n",
    "        print(\"Đã tải punkt thành công\")\n",
    "    else:\n",
    "        print(\"Không thể tải punkt, sẽ dùng tokenizer thay thế\")"
   ]
  },
  {
   "cell_type": "code",
   "execution_count": 19,
   "id": "930e14a6",
   "metadata": {
    "colab": {
     "base_uri": "https://localhost:8080/"
    },
    "id": "930e14a6",
    "outputId": "8c1f087f-4158-4164-d5df-b72fe4079fb2"
   },
   "outputs": [
    {
     "name": "stderr",
     "output_type": "stream",
     "text": [
      "[nltk_data] Downloading package punkt_tab to\n",
      "[nltk_data]     /Users/yoliephan/nltk_data...\n",
      "[nltk_data]   Unzipping tokenizers/punkt_tab.zip.\n",
      "[nltk_data]   Unzipping tokenizers/punkt_tab.zip.\n"
     ]
    }
   ],
   "source": [
    "import pandas as pd\n",
    "import re\n",
    "import string\n",
    "import matplotlib.pyplot as plt\n",
    "import numpy as np\n",
    "\n",
    "# Thư viện dùng để biểu diễn dữ liệu\n",
    "from sklearn.feature_extraction.text import TfidfVectorizer     # TF-IDF\n",
    "from gensim.models import Word2Vec\n",
    "from gensim.models.doc2vec import Doc2Vec, TaggedDocument\n",
    "\n",
    "import nltk\n",
    "from nltk.tokenize import sent_tokenize, word_tokenize\n",
    "\n",
    "nltk.download('punkt_tab')\n",
    "\n",
    "# Thư viện cho thuật toán\n",
    "from sklearn.model_selection import train_test_split\n",
    "from sklearn.neighbors import NearestCentroid, KNeighborsClassifier\n",
    "from sklearn.naive_bayes import MultinomialNB, GaussianNB   # Naive Bayes cho bài toán phân loại\n",
    "from sklearn.preprocessing import MinMaxScaler\n",
    "\n",
    "# Đánh giá mô hình\n",
    "from sklearn.metrics import confusion_matrix, ConfusionMatrixDisplay, precision_score, recall_score, f1_score"
   ]
  },
  {
   "cell_type": "markdown",
   "id": "e34986bb",
   "metadata": {
    "id": "e34986bb"
   },
   "source": [
    "#### Đọc dữ liệu\n"
   ]
  },
  {
   "cell_type": "code",
   "execution_count": 22,
   "id": "06dc8e69",
   "metadata": {
    "colab": {
     "base_uri": "https://localhost:8080/"
    },
    "id": "06dc8e69",
    "outputId": "ce4169ab-c125-49c4-b785-207787014a40"
   },
   "outputs": [
    {
     "name": "stdout",
     "output_type": "stream",
     "text": [
      "<class 'pandas.core.frame.DataFrame'>\n",
      "RangeIndex: 504 entries, 0 to 503\n",
      "Data columns (total 2 columns):\n",
      " #   Column    Non-Null Count  Dtype \n",
      "---  ------    --------------  ----- \n",
      " 0   sentence  504 non-null    object\n",
      " 1   label     504 non-null    object\n",
      "dtypes: object(2)\n",
      "memory usage: 8.0+ KB\n"
     ]
    }
   ],
   "source": [
    "data_path = \"Dataset.xlsx\"\n",
    "\n",
    "df = pd.read_excel(data_path, engine=\"openpyxl\")\n",
    "df.info()"
   ]
  },
  {
   "cell_type": "code",
   "execution_count": 23,
   "id": "4ce0e8d7",
   "metadata": {
    "colab": {
     "base_uri": "https://localhost:8080/"
    },
    "id": "4ce0e8d7",
    "outputId": "391a601e-8b0f-465d-9c0c-1e23f4a6cb86"
   },
   "outputs": [
    {
     "name": "stdout",
     "output_type": "stream",
     "text": [
      "label\n",
      "giáo dục    101\n",
      "khoa học    101\n",
      "sức khỏe    101\n",
      "thể thao    101\n",
      "du lịch     100\n",
      "Name: count, dtype: int64\n",
      "Row 1.\n",
      "Content: Giải thưởng World Luxury Hotel Awards 2022 vinh danh 10 khách sạn và resort Việt Nam ở hạng mục sang trọng nhất châu Á.\n",
      "Label: du lịch\n",
      "==================================================\n",
      "Row 2.\n",
      "Content: Almanity Hoi An Wellness Resort là cái tên đầu tiên của Việt Nam được Luxury Hotel Awards 2022 nhắc đến và chiến thắng ở hạng mục Khu nghỉ dưỡng chăm sóc sức khỏe sang trọng nhất châu Á.\n",
      "Label: du lịch\n",
      "==================================================\n"
     ]
    }
   ],
   "source": [
    "# Đếm số lượng label\n",
    "print(df['label'].value_counts())\n",
    "\n",
    "# In mẫu ra vài dòng\n",
    "for i, row in df.head(2).iterrows():\n",
    "    print(f\"Row {i+1}.\")\n",
    "    print(f\"Content: {row['sentence']}\")\n",
    "    print(f\"Label: {row['label']}\")\n",
    "    print(\"=\" * 50)"
   ]
  },
  {
   "cell_type": "markdown",
   "id": "eea3f835",
   "metadata": {
    "id": "eea3f835"
   },
   "source": [
    "#### Preprocessing\n",
    "\n",
    "- Bỏ dấu câu\n",
    "- lower các kí tự\n"
   ]
  },
  {
   "cell_type": "code",
   "execution_count": 24,
   "id": "74b727b6",
   "metadata": {
    "colab": {
     "base_uri": "https://localhost:8080/",
     "height": 143
    },
    "id": "74b727b6",
    "outputId": "22d279b2-e1f6-4fa2-9c70-73126963db95"
   },
   "outputs": [
    {
     "data": {
      "text/html": [
       "<div>\n",
       "<style scoped>\n",
       "    .dataframe tbody tr th:only-of-type {\n",
       "        vertical-align: middle;\n",
       "    }\n",
       "\n",
       "    .dataframe tbody tr th {\n",
       "        vertical-align: top;\n",
       "    }\n",
       "\n",
       "    .dataframe thead th {\n",
       "        text-align: right;\n",
       "    }\n",
       "</style>\n",
       "<table border=\"1\" class=\"dataframe\">\n",
       "  <thead>\n",
       "    <tr style=\"text-align: right;\">\n",
       "      <th></th>\n",
       "      <th>sentence</th>\n",
       "      <th>label</th>\n",
       "    </tr>\n",
       "  </thead>\n",
       "  <tbody>\n",
       "    <tr>\n",
       "      <th>0</th>\n",
       "      <td>giải thưởng world luxury hotel awards 2022 vin...</td>\n",
       "      <td>du lịch</td>\n",
       "    </tr>\n",
       "    <tr>\n",
       "      <th>1</th>\n",
       "      <td>almanity hoi an wellness resort là cái tên đầu...</td>\n",
       "      <td>du lịch</td>\n",
       "    </tr>\n",
       "    <tr>\n",
       "      <th>2</th>\n",
       "      <td>khách sạn nằm ngay trung tâm phố cổ hội an  tr...</td>\n",
       "      <td>du lịch</td>\n",
       "    </tr>\n",
       "  </tbody>\n",
       "</table>\n",
       "</div>"
      ],
      "text/plain": [
       "                                            sentence    label\n",
       "0  giải thưởng world luxury hotel awards 2022 vin...  du lịch\n",
       "1  almanity hoi an wellness resort là cái tên đầu...  du lịch\n",
       "2  khách sạn nằm ngay trung tâm phố cổ hội an  tr...  du lịch"
      ]
     },
     "execution_count": 24,
     "metadata": {},
     "output_type": "execute_result"
    }
   ],
   "source": [
    "def preprocess(text: str):\n",
    "    text = re.sub(f\"[{string.punctuation}]\", \" \", text)\n",
    "    return text.lower()\n",
    "\n",
    "df[\"sentence\"] = df[\"sentence\"].apply(lambda x: preprocess(x))\n",
    "df.head(3)"
   ]
  },
  {
   "cell_type": "markdown",
   "id": "9e665ae0",
   "metadata": {
    "id": "9e665ae0"
   },
   "source": [
    "### 2. Xây dựng biểu diễn vector\n"
   ]
  },
  {
   "cell_type": "markdown",
   "id": "3bdfeac5",
   "metadata": {
    "id": "3bdfeac5"
   },
   "source": [
    "#### 2.1 Tf-idf\n",
    "\n",
    "- Tạo tập corpus\n",
    "- Dùng Tf-idf để fit dữ liệu\n",
    "- Map document ở từng row\n"
   ]
  },
  {
   "cell_type": "code",
   "execution_count": 25,
   "id": "f46fd502",
   "metadata": {
    "colab": {
     "base_uri": "https://localhost:8080/"
    },
    "id": "f46fd502",
    "outputId": "9e695645-3855-42c9-d80f-2e28248c0b35"
   },
   "outputs": [
    {
     "name": "stdout",
     "output_type": "stream",
     "text": [
      "Number of documents: 504\n",
      "Number of words in corpus: 3284\n",
      "Shape of tf_idf vector: (3284,)\n"
     ]
    }
   ],
   "source": [
    "sentences = df[\"sentence\"].to_list()\n",
    "print(f\"Number of documents: {len(sentences)}\")\n",
    "\n",
    "tfidf_vectorizer = TfidfVectorizer()\n",
    "tfidf_vectorizer.fit(sentences)\n",
    "print(f\"Number of words in corpus: {len(tfidf_vectorizer.vocabulary_)}\")\n",
    "\n",
    "df[\"tf_idf\"] = df[\"sentence\"].apply(lambda x: tfidf_vectorizer.transform([x]).toarray()[0])\n",
    "\n",
    "print(f\"Shape of tf_idf vector: {df['tf_idf'][2].shape}\")"
   ]
  },
  {
   "cell_type": "markdown",
   "id": "c0740e38",
   "metadata": {
    "id": "c0740e38"
   },
   "source": [
    "#### 2.2 Word2vec\n"
   ]
  },
  {
   "cell_type": "code",
   "execution_count": 26,
   "id": "e58f76d6",
   "metadata": {
    "id": "e58f76d6"
   },
   "outputs": [],
   "source": [
    "# model = api.load(\"fasttext-wiki-news-subwords-300\")\n",
    "# model.save(\"model/fasttext-300.kv\")"
   ]
  },
  {
   "cell_type": "code",
   "execution_count": 27,
   "id": "4e3ba1bf",
   "metadata": {
    "colab": {
     "base_uri": "https://localhost:8080/",
     "height": 206
    },
    "id": "4e3ba1bf",
    "outputId": "7f89b33d-b5d2-45b7-f2c8-d5b605b0922b"
   },
   "outputs": [
    {
     "data": {
      "text/html": [
       "<div>\n",
       "<style scoped>\n",
       "    .dataframe tbody tr th:only-of-type {\n",
       "        vertical-align: middle;\n",
       "    }\n",
       "\n",
       "    .dataframe tbody tr th {\n",
       "        vertical-align: top;\n",
       "    }\n",
       "\n",
       "    .dataframe thead th {\n",
       "        text-align: right;\n",
       "    }\n",
       "</style>\n",
       "<table border=\"1\" class=\"dataframe\">\n",
       "  <thead>\n",
       "    <tr style=\"text-align: right;\">\n",
       "      <th></th>\n",
       "      <th>sentence</th>\n",
       "      <th>label</th>\n",
       "      <th>tf_idf</th>\n",
       "      <th>word_vector</th>\n",
       "    </tr>\n",
       "  </thead>\n",
       "  <tbody>\n",
       "    <tr>\n",
       "      <th>0</th>\n",
       "      <td>giải thưởng world luxury hotel awards 2022 vin...</td>\n",
       "      <td>du lịch</td>\n",
       "      <td>[0.0, 0.0, 0.0, 0.0, 0.0, 0.0, 0.0, 0.0, 0.0, ...</td>\n",
       "      <td>[-1.0732172, 0.101946495, 0.076508924, 0.50536...</td>\n",
       "    </tr>\n",
       "    <tr>\n",
       "      <th>1</th>\n",
       "      <td>almanity hoi an wellness resort là cái tên đầu...</td>\n",
       "      <td>du lịch</td>\n",
       "      <td>[0.0, 0.0, 0.0, 0.0, 0.0, 0.0, 0.0, 0.0, 0.0, ...</td>\n",
       "      <td>[-0.81433755, 0.32077318, 0.14580259, 0.143043...</td>\n",
       "    </tr>\n",
       "    <tr>\n",
       "      <th>2</th>\n",
       "      <td>khách sạn nằm ngay trung tâm phố cổ hội an  tr...</td>\n",
       "      <td>du lịch</td>\n",
       "      <td>[0.0, 0.0, 0.0, 0.0, 0.0, 0.0, 0.0, 0.0, 0.0, ...</td>\n",
       "      <td>[-0.5242854, 0.20868973, 0.32137808, -0.480519...</td>\n",
       "    </tr>\n",
       "    <tr>\n",
       "      <th>3</th>\n",
       "      <td>xung quanh khách sạn là các hồ bơi nước mặn và...</td>\n",
       "      <td>du lịch</td>\n",
       "      <td>[0.0, 0.0, 0.0, 0.0, 0.0, 0.0, 0.0, 0.0, 0.0, ...</td>\n",
       "      <td>[-0.63287824, 0.14204232, 0.44818187, 0.081091...</td>\n",
       "    </tr>\n",
       "    <tr>\n",
       "      <th>4</th>\n",
       "      <td>tại đây  du khách vừa có thể nghỉ dưỡng  vừa t...</td>\n",
       "      <td>du lịch</td>\n",
       "      <td>[0.0, 0.0, 0.0, 0.0, 0.0, 0.0, 0.0, 0.0, 0.0, ...</td>\n",
       "      <td>[-0.85032576, -0.10148694, 0.08460633, 0.38938...</td>\n",
       "    </tr>\n",
       "  </tbody>\n",
       "</table>\n",
       "</div>"
      ],
      "text/plain": [
       "                                            sentence    label  \\\n",
       "0  giải thưởng world luxury hotel awards 2022 vin...  du lịch   \n",
       "1  almanity hoi an wellness resort là cái tên đầu...  du lịch   \n",
       "2  khách sạn nằm ngay trung tâm phố cổ hội an  tr...  du lịch   \n",
       "3  xung quanh khách sạn là các hồ bơi nước mặn và...  du lịch   \n",
       "4  tại đây  du khách vừa có thể nghỉ dưỡng  vừa t...  du lịch   \n",
       "\n",
       "                                              tf_idf  \\\n",
       "0  [0.0, 0.0, 0.0, 0.0, 0.0, 0.0, 0.0, 0.0, 0.0, ...   \n",
       "1  [0.0, 0.0, 0.0, 0.0, 0.0, 0.0, 0.0, 0.0, 0.0, ...   \n",
       "2  [0.0, 0.0, 0.0, 0.0, 0.0, 0.0, 0.0, 0.0, 0.0, ...   \n",
       "3  [0.0, 0.0, 0.0, 0.0, 0.0, 0.0, 0.0, 0.0, 0.0, ...   \n",
       "4  [0.0, 0.0, 0.0, 0.0, 0.0, 0.0, 0.0, 0.0, 0.0, ...   \n",
       "\n",
       "                                         word_vector  \n",
       "0  [-1.0732172, 0.101946495, 0.076508924, 0.50536...  \n",
       "1  [-0.81433755, 0.32077318, 0.14580259, 0.143043...  \n",
       "2  [-0.5242854, 0.20868973, 0.32137808, -0.480519...  \n",
       "3  [-0.63287824, 0.14204232, 0.44818187, 0.081091...  \n",
       "4  [-0.85032576, -0.10148694, 0.08460633, 0.38938...  "
      ]
     },
     "execution_count": 27,
     "metadata": {},
     "output_type": "execute_result"
    }
   ],
   "source": [
    "sentences = df[\"sentence\"].to_list()\n",
    "\n",
    "# Cách 1: dùng mô hình tự train\n",
    "sentences = [word_tokenize(s) for s in sentences]\n",
    "model = Word2Vec(sentences, vector_size=100, window=5, min_count=1, workers=4, epochs=50)\n",
    "\n",
    "#### Các tham số của mô hình\n",
    "# sentences,        # dữ liệu đầu vào (các câu đã được token hoá)\n",
    "# vector_size=100,  # kích thước vector biểu diễn từ\n",
    "# window=5,         # kích thước cửa sổ ngữ cảnh (context window size)\n",
    "# min_count=1,      # số lần xuất hiện tối thiểu của một từ để được đưa vào mô hình\n",
    "# workers=4,        # số luồng xử lý song song\n",
    "# epochs=50         # số lần lặp qua toàn bộ dữ liệu (huấn luyện)\n",
    "\n",
    "\n",
    "# # Cách 2: dùng mô hình load sẵn, có thể dùng mô hình pretrain thêm\n",
    "# try:\n",
    "#     model = KeyedVectors.load(\"model/glove_100.kv\")\n",
    "#     print(f\"Load model từ thư mục local\")\n",
    "# except:\n",
    "#     print(f\"Mô hình chưa tồn tại, tải mô hình về\")\n",
    "#     model = api.load(\"glove-wiki-gigaword-100\")\n",
    "#     model.save(\"model/glove_100.kv\")\n",
    "\n",
    "# Hàm vector hoá\n",
    "def sentence_to_vec(sent):\n",
    "    return np.mean([model.wv[w] for w in word_tokenize(sent)], axis=0)\n",
    "\n",
    "df[\"word_vector\"] = df[\"sentence\"].apply(sentence_to_vec)\n",
    "\n",
    "df.head()"
   ]
  },
  {
   "cell_type": "markdown",
   "id": "1f877c12",
   "metadata": {
    "id": "1f877c12"
   },
   "source": [
    "#### 2.3 Doc2vec\n"
   ]
  },
  {
   "cell_type": "code",
   "execution_count": 28,
   "id": "9502b120",
   "metadata": {
    "colab": {
     "base_uri": "https://localhost:8080/",
     "height": 206
    },
    "id": "9502b120",
    "outputId": "b3d3e4c3-a614-4e11-d737-ecbcf1b047a8"
   },
   "outputs": [
    {
     "data": {
      "text/html": [
       "<div>\n",
       "<style scoped>\n",
       "    .dataframe tbody tr th:only-of-type {\n",
       "        vertical-align: middle;\n",
       "    }\n",
       "\n",
       "    .dataframe tbody tr th {\n",
       "        vertical-align: top;\n",
       "    }\n",
       "\n",
       "    .dataframe thead th {\n",
       "        text-align: right;\n",
       "    }\n",
       "</style>\n",
       "<table border=\"1\" class=\"dataframe\">\n",
       "  <thead>\n",
       "    <tr style=\"text-align: right;\">\n",
       "      <th></th>\n",
       "      <th>sentence</th>\n",
       "      <th>label</th>\n",
       "      <th>tf_idf</th>\n",
       "      <th>word_vector</th>\n",
       "      <th>doc_vector</th>\n",
       "    </tr>\n",
       "  </thead>\n",
       "  <tbody>\n",
       "    <tr>\n",
       "      <th>0</th>\n",
       "      <td>giải thưởng world luxury hotel awards 2022 vin...</td>\n",
       "      <td>du lịch</td>\n",
       "      <td>[0.0, 0.0, 0.0, 0.0, 0.0, 0.0, 0.0, 0.0, 0.0, ...</td>\n",
       "      <td>[-1.0732172, 0.101946495, 0.076508924, 0.50536...</td>\n",
       "      <td>[-0.23396233, 0.5150588, 0.08551325, -0.263690...</td>\n",
       "    </tr>\n",
       "    <tr>\n",
       "      <th>1</th>\n",
       "      <td>almanity hoi an wellness resort là cái tên đầu...</td>\n",
       "      <td>du lịch</td>\n",
       "      <td>[0.0, 0.0, 0.0, 0.0, 0.0, 0.0, 0.0, 0.0, 0.0, ...</td>\n",
       "      <td>[-0.81433755, 0.32077318, 0.14580259, 0.143043...</td>\n",
       "      <td>[-0.58173597, 1.0631275, -0.1472317, -0.338048...</td>\n",
       "    </tr>\n",
       "    <tr>\n",
       "      <th>2</th>\n",
       "      <td>khách sạn nằm ngay trung tâm phố cổ hội an  tr...</td>\n",
       "      <td>du lịch</td>\n",
       "      <td>[0.0, 0.0, 0.0, 0.0, 0.0, 0.0, 0.0, 0.0, 0.0, ...</td>\n",
       "      <td>[-0.5242854, 0.20868973, 0.32137808, -0.480519...</td>\n",
       "      <td>[0.081404015, 0.51594144, 0.1769692, -0.594099...</td>\n",
       "    </tr>\n",
       "    <tr>\n",
       "      <th>3</th>\n",
       "      <td>xung quanh khách sạn là các hồ bơi nước mặn và...</td>\n",
       "      <td>du lịch</td>\n",
       "      <td>[0.0, 0.0, 0.0, 0.0, 0.0, 0.0, 0.0, 0.0, 0.0, ...</td>\n",
       "      <td>[-0.63287824, 0.14204232, 0.44818187, 0.081091...</td>\n",
       "      <td>[-0.60872436, 0.32902488, 0.5986293, -0.048106...</td>\n",
       "    </tr>\n",
       "    <tr>\n",
       "      <th>4</th>\n",
       "      <td>tại đây  du khách vừa có thể nghỉ dưỡng  vừa t...</td>\n",
       "      <td>du lịch</td>\n",
       "      <td>[0.0, 0.0, 0.0, 0.0, 0.0, 0.0, 0.0, 0.0, 0.0, ...</td>\n",
       "      <td>[-0.85032576, -0.10148694, 0.08460633, 0.38938...</td>\n",
       "      <td>[-0.4183375, 0.23315348, 0.17600526, 0.1505037...</td>\n",
       "    </tr>\n",
       "  </tbody>\n",
       "</table>\n",
       "</div>"
      ],
      "text/plain": [
       "                                            sentence    label  \\\n",
       "0  giải thưởng world luxury hotel awards 2022 vin...  du lịch   \n",
       "1  almanity hoi an wellness resort là cái tên đầu...  du lịch   \n",
       "2  khách sạn nằm ngay trung tâm phố cổ hội an  tr...  du lịch   \n",
       "3  xung quanh khách sạn là các hồ bơi nước mặn và...  du lịch   \n",
       "4  tại đây  du khách vừa có thể nghỉ dưỡng  vừa t...  du lịch   \n",
       "\n",
       "                                              tf_idf  \\\n",
       "0  [0.0, 0.0, 0.0, 0.0, 0.0, 0.0, 0.0, 0.0, 0.0, ...   \n",
       "1  [0.0, 0.0, 0.0, 0.0, 0.0, 0.0, 0.0, 0.0, 0.0, ...   \n",
       "2  [0.0, 0.0, 0.0, 0.0, 0.0, 0.0, 0.0, 0.0, 0.0, ...   \n",
       "3  [0.0, 0.0, 0.0, 0.0, 0.0, 0.0, 0.0, 0.0, 0.0, ...   \n",
       "4  [0.0, 0.0, 0.0, 0.0, 0.0, 0.0, 0.0, 0.0, 0.0, ...   \n",
       "\n",
       "                                         word_vector  \\\n",
       "0  [-1.0732172, 0.101946495, 0.076508924, 0.50536...   \n",
       "1  [-0.81433755, 0.32077318, 0.14580259, 0.143043...   \n",
       "2  [-0.5242854, 0.20868973, 0.32137808, -0.480519...   \n",
       "3  [-0.63287824, 0.14204232, 0.44818187, 0.081091...   \n",
       "4  [-0.85032576, -0.10148694, 0.08460633, 0.38938...   \n",
       "\n",
       "                                          doc_vector  \n",
       "0  [-0.23396233, 0.5150588, 0.08551325, -0.263690...  \n",
       "1  [-0.58173597, 1.0631275, -0.1472317, -0.338048...  \n",
       "2  [0.081404015, 0.51594144, 0.1769692, -0.594099...  \n",
       "3  [-0.60872436, 0.32902488, 0.5986293, -0.048106...  \n",
       "4  [-0.4183375, 0.23315348, 0.17600526, 0.1505037...  "
      ]
     },
     "execution_count": 28,
     "metadata": {},
     "output_type": "execute_result"
    }
   ],
   "source": [
    "sentences = [\n",
    "    TaggedDocument(words=word_tokenize(row['sentence'].lower()), tags=[str(i)])\n",
    "    for i, row in df.iterrows()\n",
    "]\n",
    "\n",
    "model = Doc2Vec(\n",
    "    sentences,\n",
    "    vector_size=100,     # dimension of output vector\n",
    "    window=5,            # context window size\n",
    "    min_count=1,         # ignore words with total frequency < 1\n",
    "    workers=4,           # number of threads\n",
    "    epochs=50            # number of training iterations\n",
    ")\n",
    "\n",
    "# Hàm vector hoá\n",
    "def sentence_to_vec(sent):\n",
    "    return model.infer_vector(word_tokenize(sent))\n",
    "\n",
    "df[\"doc_vector\"] = df[\"sentence\"].apply(sentence_to_vec)\n",
    "\n",
    "df.head()"
   ]
  },
  {
   "cell_type": "markdown",
   "id": "dbcad461",
   "metadata": {
    "id": "dbcad461"
   },
   "source": [
    "### 3. Cài đặt thuật toán phân lớp\n",
    "\n",
    "- Rocchio\n",
    "- K-nearest neighbor\n",
    "- Naive Bayes\n"
   ]
  },
  {
   "cell_type": "markdown",
   "id": "dd2c6b6b",
   "metadata": {
    "id": "dd2c6b6b"
   },
   "source": [
    "#### 3.1 Tạo bộ train & test\n",
    "\n",
    "- stratify theo label để đảm bảo dữ liệu cân bằng\n"
   ]
  },
  {
   "cell_type": "code",
   "execution_count": 29,
   "id": "26129db8",
   "metadata": {
    "colab": {
     "base_uri": "https://localhost:8080/"
    },
    "id": "26129db8",
    "outputId": "430a5b5f-1dbf-46ad-aaad-42ca16dc39b0"
   },
   "outputs": [
    {
     "data": {
      "text/plain": [
       "(403, 101, 403, 101, 403, 101, 403, 101)"
      ]
     },
     "execution_count": 29,
     "metadata": {},
     "output_type": "execute_result"
    }
   ],
   "source": [
    "tfidf_features = df['tf_idf'].to_list()\n",
    "word2vec_features = df['word_vector'].to_list()\n",
    "doc2vec_features = df['doc_vector'].to_list()\n",
    "\n",
    "labels = df['label'].to_list()\n",
    "X_tfidf_train, X_tfidf_test, X_word2vec_train, X_word2vec_test, X_doc2vec_train, X_doc2vec_test, y_train, y_test = train_test_split(\n",
    "        tfidf_features, word2vec_features, doc2vec_features, labels, test_size=0.2, random_state=2025, shuffle=True, stratify=labels\n",
    "    )\n",
    "\n",
    "len(X_tfidf_train), len(X_tfidf_test), len(X_word2vec_train), len(X_word2vec_test), len(X_doc2vec_train), len(X_doc2vec_test), len(y_train), len(y_test)"
   ]
  },
  {
   "cell_type": "markdown",
   "id": "87457b8e",
   "metadata": {
    "id": "87457b8e"
   },
   "source": [
    "#### 3.2 Fit mô hình\n",
    "\n",
    "- Feature: TF-IDF, Word2vec, Doc2vec\n",
    "- Algorithm: Rocchio, K-nearest, Naive Bayes\n"
   ]
  },
  {
   "cell_type": "code",
   "execution_count": 30,
   "id": "8bba32b8",
   "metadata": {
    "colab": {
     "base_uri": "https://localhost:8080/",
     "height": 135
    },
    "id": "8bba32b8",
    "outputId": "9037a325-fec2-4e4a-caa0-29af5c9c27ba"
   },
   "outputs": [
    {
     "name": "stderr",
     "output_type": "stream",
     "text": [
      "/Users/yoliephan/Desktop/Doan_khaithactt_Nhom8/.venv/lib/python3.12/site-packages/sklearn/neighbors/_nearest_centroid.py:244: UserWarning: self.within_class_std_dev_ has at least 1 zero standard deviation.Inputs within the same classes for at least 1 feature are identical.\n",
      "  warnings.warn(\n"
     ]
    },
    {
     "data": {
      "text/html": [
       "<style>#sk-container-id-3 {\n",
       "  /* Definition of color scheme common for light and dark mode */\n",
       "  --sklearn-color-text: #000;\n",
       "  --sklearn-color-text-muted: #666;\n",
       "  --sklearn-color-line: gray;\n",
       "  /* Definition of color scheme for unfitted estimators */\n",
       "  --sklearn-color-unfitted-level-0: #fff5e6;\n",
       "  --sklearn-color-unfitted-level-1: #f6e4d2;\n",
       "  --sklearn-color-unfitted-level-2: #ffe0b3;\n",
       "  --sklearn-color-unfitted-level-3: chocolate;\n",
       "  /* Definition of color scheme for fitted estimators */\n",
       "  --sklearn-color-fitted-level-0: #f0f8ff;\n",
       "  --sklearn-color-fitted-level-1: #d4ebff;\n",
       "  --sklearn-color-fitted-level-2: #b3dbfd;\n",
       "  --sklearn-color-fitted-level-3: cornflowerblue;\n",
       "\n",
       "  /* Specific color for light theme */\n",
       "  --sklearn-color-text-on-default-background: var(--sg-text-color, var(--theme-code-foreground, var(--jp-content-font-color1, black)));\n",
       "  --sklearn-color-background: var(--sg-background-color, var(--theme-background, var(--jp-layout-color0, white)));\n",
       "  --sklearn-color-border-box: var(--sg-text-color, var(--theme-code-foreground, var(--jp-content-font-color1, black)));\n",
       "  --sklearn-color-icon: #696969;\n",
       "\n",
       "  @media (prefers-color-scheme: dark) {\n",
       "    /* Redefinition of color scheme for dark theme */\n",
       "    --sklearn-color-text-on-default-background: var(--sg-text-color, var(--theme-code-foreground, var(--jp-content-font-color1, white)));\n",
       "    --sklearn-color-background: var(--sg-background-color, var(--theme-background, var(--jp-layout-color0, #111)));\n",
       "    --sklearn-color-border-box: var(--sg-text-color, var(--theme-code-foreground, var(--jp-content-font-color1, white)));\n",
       "    --sklearn-color-icon: #878787;\n",
       "  }\n",
       "}\n",
       "\n",
       "#sk-container-id-3 {\n",
       "  color: var(--sklearn-color-text);\n",
       "}\n",
       "\n",
       "#sk-container-id-3 pre {\n",
       "  padding: 0;\n",
       "}\n",
       "\n",
       "#sk-container-id-3 input.sk-hidden--visually {\n",
       "  border: 0;\n",
       "  clip: rect(1px 1px 1px 1px);\n",
       "  clip: rect(1px, 1px, 1px, 1px);\n",
       "  height: 1px;\n",
       "  margin: -1px;\n",
       "  overflow: hidden;\n",
       "  padding: 0;\n",
       "  position: absolute;\n",
       "  width: 1px;\n",
       "}\n",
       "\n",
       "#sk-container-id-3 div.sk-dashed-wrapped {\n",
       "  border: 1px dashed var(--sklearn-color-line);\n",
       "  margin: 0 0.4em 0.5em 0.4em;\n",
       "  box-sizing: border-box;\n",
       "  padding-bottom: 0.4em;\n",
       "  background-color: var(--sklearn-color-background);\n",
       "}\n",
       "\n",
       "#sk-container-id-3 div.sk-container {\n",
       "  /* jupyter's `normalize.less` sets `[hidden] { display: none; }`\n",
       "     but bootstrap.min.css set `[hidden] { display: none !important; }`\n",
       "     so we also need the `!important` here to be able to override the\n",
       "     default hidden behavior on the sphinx rendered scikit-learn.org.\n",
       "     See: https://github.com/scikit-learn/scikit-learn/issues/21755 */\n",
       "  display: inline-block !important;\n",
       "  position: relative;\n",
       "}\n",
       "\n",
       "#sk-container-id-3 div.sk-text-repr-fallback {\n",
       "  display: none;\n",
       "}\n",
       "\n",
       "div.sk-parallel-item,\n",
       "div.sk-serial,\n",
       "div.sk-item {\n",
       "  /* draw centered vertical line to link estimators */\n",
       "  background-image: linear-gradient(var(--sklearn-color-text-on-default-background), var(--sklearn-color-text-on-default-background));\n",
       "  background-size: 2px 100%;\n",
       "  background-repeat: no-repeat;\n",
       "  background-position: center center;\n",
       "}\n",
       "\n",
       "/* Parallel-specific style estimator block */\n",
       "\n",
       "#sk-container-id-3 div.sk-parallel-item::after {\n",
       "  content: \"\";\n",
       "  width: 100%;\n",
       "  border-bottom: 2px solid var(--sklearn-color-text-on-default-background);\n",
       "  flex-grow: 1;\n",
       "}\n",
       "\n",
       "#sk-container-id-3 div.sk-parallel {\n",
       "  display: flex;\n",
       "  align-items: stretch;\n",
       "  justify-content: center;\n",
       "  background-color: var(--sklearn-color-background);\n",
       "  position: relative;\n",
       "}\n",
       "\n",
       "#sk-container-id-3 div.sk-parallel-item {\n",
       "  display: flex;\n",
       "  flex-direction: column;\n",
       "}\n",
       "\n",
       "#sk-container-id-3 div.sk-parallel-item:first-child::after {\n",
       "  align-self: flex-end;\n",
       "  width: 50%;\n",
       "}\n",
       "\n",
       "#sk-container-id-3 div.sk-parallel-item:last-child::after {\n",
       "  align-self: flex-start;\n",
       "  width: 50%;\n",
       "}\n",
       "\n",
       "#sk-container-id-3 div.sk-parallel-item:only-child::after {\n",
       "  width: 0;\n",
       "}\n",
       "\n",
       "/* Serial-specific style estimator block */\n",
       "\n",
       "#sk-container-id-3 div.sk-serial {\n",
       "  display: flex;\n",
       "  flex-direction: column;\n",
       "  align-items: center;\n",
       "  background-color: var(--sklearn-color-background);\n",
       "  padding-right: 1em;\n",
       "  padding-left: 1em;\n",
       "}\n",
       "\n",
       "\n",
       "/* Toggleable style: style used for estimator/Pipeline/ColumnTransformer box that is\n",
       "clickable and can be expanded/collapsed.\n",
       "- Pipeline and ColumnTransformer use this feature and define the default style\n",
       "- Estimators will overwrite some part of the style using the `sk-estimator` class\n",
       "*/\n",
       "\n",
       "/* Pipeline and ColumnTransformer style (default) */\n",
       "\n",
       "#sk-container-id-3 div.sk-toggleable {\n",
       "  /* Default theme specific background. It is overwritten whether we have a\n",
       "  specific estimator or a Pipeline/ColumnTransformer */\n",
       "  background-color: var(--sklearn-color-background);\n",
       "}\n",
       "\n",
       "/* Toggleable label */\n",
       "#sk-container-id-3 label.sk-toggleable__label {\n",
       "  cursor: pointer;\n",
       "  display: flex;\n",
       "  width: 100%;\n",
       "  margin-bottom: 0;\n",
       "  padding: 0.5em;\n",
       "  box-sizing: border-box;\n",
       "  text-align: center;\n",
       "  align-items: start;\n",
       "  justify-content: space-between;\n",
       "  gap: 0.5em;\n",
       "}\n",
       "\n",
       "#sk-container-id-3 label.sk-toggleable__label .caption {\n",
       "  font-size: 0.6rem;\n",
       "  font-weight: lighter;\n",
       "  color: var(--sklearn-color-text-muted);\n",
       "}\n",
       "\n",
       "#sk-container-id-3 label.sk-toggleable__label-arrow:before {\n",
       "  /* Arrow on the left of the label */\n",
       "  content: \"▸\";\n",
       "  float: left;\n",
       "  margin-right: 0.25em;\n",
       "  color: var(--sklearn-color-icon);\n",
       "}\n",
       "\n",
       "#sk-container-id-3 label.sk-toggleable__label-arrow:hover:before {\n",
       "  color: var(--sklearn-color-text);\n",
       "}\n",
       "\n",
       "/* Toggleable content - dropdown */\n",
       "\n",
       "#sk-container-id-3 div.sk-toggleable__content {\n",
       "  display: none;\n",
       "  text-align: left;\n",
       "  /* unfitted */\n",
       "  background-color: var(--sklearn-color-unfitted-level-0);\n",
       "}\n",
       "\n",
       "#sk-container-id-3 div.sk-toggleable__content.fitted {\n",
       "  /* fitted */\n",
       "  background-color: var(--sklearn-color-fitted-level-0);\n",
       "}\n",
       "\n",
       "#sk-container-id-3 div.sk-toggleable__content pre {\n",
       "  margin: 0.2em;\n",
       "  border-radius: 0.25em;\n",
       "  color: var(--sklearn-color-text);\n",
       "  /* unfitted */\n",
       "  background-color: var(--sklearn-color-unfitted-level-0);\n",
       "}\n",
       "\n",
       "#sk-container-id-3 div.sk-toggleable__content.fitted pre {\n",
       "  /* unfitted */\n",
       "  background-color: var(--sklearn-color-fitted-level-0);\n",
       "}\n",
       "\n",
       "#sk-container-id-3 input.sk-toggleable__control:checked~div.sk-toggleable__content {\n",
       "  /* Expand drop-down */\n",
       "  display: block;\n",
       "  width: 100%;\n",
       "  overflow: visible;\n",
       "}\n",
       "\n",
       "#sk-container-id-3 input.sk-toggleable__control:checked~label.sk-toggleable__label-arrow:before {\n",
       "  content: \"▾\";\n",
       "}\n",
       "\n",
       "/* Pipeline/ColumnTransformer-specific style */\n",
       "\n",
       "#sk-container-id-3 div.sk-label input.sk-toggleable__control:checked~label.sk-toggleable__label {\n",
       "  color: var(--sklearn-color-text);\n",
       "  background-color: var(--sklearn-color-unfitted-level-2);\n",
       "}\n",
       "\n",
       "#sk-container-id-3 div.sk-label.fitted input.sk-toggleable__control:checked~label.sk-toggleable__label {\n",
       "  background-color: var(--sklearn-color-fitted-level-2);\n",
       "}\n",
       "\n",
       "/* Estimator-specific style */\n",
       "\n",
       "/* Colorize estimator box */\n",
       "#sk-container-id-3 div.sk-estimator input.sk-toggleable__control:checked~label.sk-toggleable__label {\n",
       "  /* unfitted */\n",
       "  background-color: var(--sklearn-color-unfitted-level-2);\n",
       "}\n",
       "\n",
       "#sk-container-id-3 div.sk-estimator.fitted input.sk-toggleable__control:checked~label.sk-toggleable__label {\n",
       "  /* fitted */\n",
       "  background-color: var(--sklearn-color-fitted-level-2);\n",
       "}\n",
       "\n",
       "#sk-container-id-3 div.sk-label label.sk-toggleable__label,\n",
       "#sk-container-id-3 div.sk-label label {\n",
       "  /* The background is the default theme color */\n",
       "  color: var(--sklearn-color-text-on-default-background);\n",
       "}\n",
       "\n",
       "/* On hover, darken the color of the background */\n",
       "#sk-container-id-3 div.sk-label:hover label.sk-toggleable__label {\n",
       "  color: var(--sklearn-color-text);\n",
       "  background-color: var(--sklearn-color-unfitted-level-2);\n",
       "}\n",
       "\n",
       "/* Label box, darken color on hover, fitted */\n",
       "#sk-container-id-3 div.sk-label.fitted:hover label.sk-toggleable__label.fitted {\n",
       "  color: var(--sklearn-color-text);\n",
       "  background-color: var(--sklearn-color-fitted-level-2);\n",
       "}\n",
       "\n",
       "/* Estimator label */\n",
       "\n",
       "#sk-container-id-3 div.sk-label label {\n",
       "  font-family: monospace;\n",
       "  font-weight: bold;\n",
       "  display: inline-block;\n",
       "  line-height: 1.2em;\n",
       "}\n",
       "\n",
       "#sk-container-id-3 div.sk-label-container {\n",
       "  text-align: center;\n",
       "}\n",
       "\n",
       "/* Estimator-specific */\n",
       "#sk-container-id-3 div.sk-estimator {\n",
       "  font-family: monospace;\n",
       "  border: 1px dotted var(--sklearn-color-border-box);\n",
       "  border-radius: 0.25em;\n",
       "  box-sizing: border-box;\n",
       "  margin-bottom: 0.5em;\n",
       "  /* unfitted */\n",
       "  background-color: var(--sklearn-color-unfitted-level-0);\n",
       "}\n",
       "\n",
       "#sk-container-id-3 div.sk-estimator.fitted {\n",
       "  /* fitted */\n",
       "  background-color: var(--sklearn-color-fitted-level-0);\n",
       "}\n",
       "\n",
       "/* on hover */\n",
       "#sk-container-id-3 div.sk-estimator:hover {\n",
       "  /* unfitted */\n",
       "  background-color: var(--sklearn-color-unfitted-level-2);\n",
       "}\n",
       "\n",
       "#sk-container-id-3 div.sk-estimator.fitted:hover {\n",
       "  /* fitted */\n",
       "  background-color: var(--sklearn-color-fitted-level-2);\n",
       "}\n",
       "\n",
       "/* Specification for estimator info (e.g. \"i\" and \"?\") */\n",
       "\n",
       "/* Common style for \"i\" and \"?\" */\n",
       "\n",
       ".sk-estimator-doc-link,\n",
       "a:link.sk-estimator-doc-link,\n",
       "a:visited.sk-estimator-doc-link {\n",
       "  float: right;\n",
       "  font-size: smaller;\n",
       "  line-height: 1em;\n",
       "  font-family: monospace;\n",
       "  background-color: var(--sklearn-color-background);\n",
       "  border-radius: 1em;\n",
       "  height: 1em;\n",
       "  width: 1em;\n",
       "  text-decoration: none !important;\n",
       "  margin-left: 0.5em;\n",
       "  text-align: center;\n",
       "  /* unfitted */\n",
       "  border: var(--sklearn-color-unfitted-level-1) 1pt solid;\n",
       "  color: var(--sklearn-color-unfitted-level-1);\n",
       "}\n",
       "\n",
       ".sk-estimator-doc-link.fitted,\n",
       "a:link.sk-estimator-doc-link.fitted,\n",
       "a:visited.sk-estimator-doc-link.fitted {\n",
       "  /* fitted */\n",
       "  border: var(--sklearn-color-fitted-level-1) 1pt solid;\n",
       "  color: var(--sklearn-color-fitted-level-1);\n",
       "}\n",
       "\n",
       "/* On hover */\n",
       "div.sk-estimator:hover .sk-estimator-doc-link:hover,\n",
       ".sk-estimator-doc-link:hover,\n",
       "div.sk-label-container:hover .sk-estimator-doc-link:hover,\n",
       ".sk-estimator-doc-link:hover {\n",
       "  /* unfitted */\n",
       "  background-color: var(--sklearn-color-unfitted-level-3);\n",
       "  color: var(--sklearn-color-background);\n",
       "  text-decoration: none;\n",
       "}\n",
       "\n",
       "div.sk-estimator.fitted:hover .sk-estimator-doc-link.fitted:hover,\n",
       ".sk-estimator-doc-link.fitted:hover,\n",
       "div.sk-label-container:hover .sk-estimator-doc-link.fitted:hover,\n",
       ".sk-estimator-doc-link.fitted:hover {\n",
       "  /* fitted */\n",
       "  background-color: var(--sklearn-color-fitted-level-3);\n",
       "  color: var(--sklearn-color-background);\n",
       "  text-decoration: none;\n",
       "}\n",
       "\n",
       "/* Span, style for the box shown on hovering the info icon */\n",
       ".sk-estimator-doc-link span {\n",
       "  display: none;\n",
       "  z-index: 9999;\n",
       "  position: relative;\n",
       "  font-weight: normal;\n",
       "  right: .2ex;\n",
       "  padding: .5ex;\n",
       "  margin: .5ex;\n",
       "  width: min-content;\n",
       "  min-width: 20ex;\n",
       "  max-width: 50ex;\n",
       "  color: var(--sklearn-color-text);\n",
       "  box-shadow: 2pt 2pt 4pt #999;\n",
       "  /* unfitted */\n",
       "  background: var(--sklearn-color-unfitted-level-0);\n",
       "  border: .5pt solid var(--sklearn-color-unfitted-level-3);\n",
       "}\n",
       "\n",
       ".sk-estimator-doc-link.fitted span {\n",
       "  /* fitted */\n",
       "  background: var(--sklearn-color-fitted-level-0);\n",
       "  border: var(--sklearn-color-fitted-level-3);\n",
       "}\n",
       "\n",
       ".sk-estimator-doc-link:hover span {\n",
       "  display: block;\n",
       "}\n",
       "\n",
       "/* \"?\"-specific style due to the `<a>` HTML tag */\n",
       "\n",
       "#sk-container-id-3 a.estimator_doc_link {\n",
       "  float: right;\n",
       "  font-size: 1rem;\n",
       "  line-height: 1em;\n",
       "  font-family: monospace;\n",
       "  background-color: var(--sklearn-color-background);\n",
       "  border-radius: 1rem;\n",
       "  height: 1rem;\n",
       "  width: 1rem;\n",
       "  text-decoration: none;\n",
       "  /* unfitted */\n",
       "  color: var(--sklearn-color-unfitted-level-1);\n",
       "  border: var(--sklearn-color-unfitted-level-1) 1pt solid;\n",
       "}\n",
       "\n",
       "#sk-container-id-3 a.estimator_doc_link.fitted {\n",
       "  /* fitted */\n",
       "  border: var(--sklearn-color-fitted-level-1) 1pt solid;\n",
       "  color: var(--sklearn-color-fitted-level-1);\n",
       "}\n",
       "\n",
       "/* On hover */\n",
       "#sk-container-id-3 a.estimator_doc_link:hover {\n",
       "  /* unfitted */\n",
       "  background-color: var(--sklearn-color-unfitted-level-3);\n",
       "  color: var(--sklearn-color-background);\n",
       "  text-decoration: none;\n",
       "}\n",
       "\n",
       "#sk-container-id-3 a.estimator_doc_link.fitted:hover {\n",
       "  /* fitted */\n",
       "  background-color: var(--sklearn-color-fitted-level-3);\n",
       "}\n",
       "\n",
       ".estimator-table summary {\n",
       "    padding: .5rem;\n",
       "    font-family: monospace;\n",
       "    cursor: pointer;\n",
       "}\n",
       "\n",
       ".estimator-table details[open] {\n",
       "    padding-left: 0.1rem;\n",
       "    padding-right: 0.1rem;\n",
       "    padding-bottom: 0.3rem;\n",
       "}\n",
       "\n",
       ".estimator-table .parameters-table {\n",
       "    margin-left: auto !important;\n",
       "    margin-right: auto !important;\n",
       "}\n",
       "\n",
       ".estimator-table .parameters-table tr:nth-child(odd) {\n",
       "    background-color: #fff;\n",
       "}\n",
       "\n",
       ".estimator-table .parameters-table tr:nth-child(even) {\n",
       "    background-color: #f6f6f6;\n",
       "}\n",
       "\n",
       ".estimator-table .parameters-table tr:hover {\n",
       "    background-color: #e0e0e0;\n",
       "}\n",
       "\n",
       ".estimator-table table td {\n",
       "    border: 1px solid rgba(106, 105, 104, 0.232);\n",
       "}\n",
       "\n",
       ".user-set td {\n",
       "    color:rgb(255, 94, 0);\n",
       "    text-align: left;\n",
       "}\n",
       "\n",
       ".user-set td.value pre {\n",
       "    color:rgb(255, 94, 0) !important;\n",
       "    background-color: transparent !important;\n",
       "}\n",
       "\n",
       ".default td {\n",
       "    color: black;\n",
       "    text-align: left;\n",
       "}\n",
       "\n",
       ".user-set td i,\n",
       ".default td i {\n",
       "    color: black;\n",
       "}\n",
       "\n",
       ".copy-paste-icon {\n",
       "    background-image: url(data:image/svg+xml;base64,PHN2ZyB4bWxucz0iaHR0cDovL3d3dy53My5vcmcvMjAwMC9zdmciIHZpZXdCb3g9IjAgMCA0NDggNTEyIj48IS0tIUZvbnQgQXdlc29tZSBGcmVlIDYuNy4yIGJ5IEBmb250YXdlc29tZSAtIGh0dHBzOi8vZm9udGF3ZXNvbWUuY29tIExpY2Vuc2UgLSBodHRwczovL2ZvbnRhd2Vzb21lLmNvbS9saWNlbnNlL2ZyZWUgQ29weXJpZ2h0IDIwMjUgRm9udGljb25zLCBJbmMuLS0+PHBhdGggZD0iTTIwOCAwTDMzMi4xIDBjMTIuNyAwIDI0LjkgNS4xIDMzLjkgMTQuMWw2Ny45IDY3LjljOSA5IDE0LjEgMjEuMiAxNC4xIDMzLjlMNDQ4IDMzNmMwIDI2LjUtMjEuNSA0OC00OCA0OGwtMTkyIDBjLTI2LjUgMC00OC0yMS41LTQ4LTQ4bDAtMjg4YzAtMjYuNSAyMS41LTQ4IDQ4LTQ4ek00OCAxMjhsODAgMCAwIDY0LTY0IDAgMCAyNTYgMTkyIDAgMC0zMiA2NCAwIDAgNDhjMCAyNi41LTIxLjUgNDgtNDggNDhMNDggNTEyYy0yNi41IDAtNDgtMjEuNS00OC00OEwwIDE3NmMwLTI2LjUgMjEuNS00OCA0OC00OHoiLz48L3N2Zz4=);\n",
       "    background-repeat: no-repeat;\n",
       "    background-size: 14px 14px;\n",
       "    background-position: 0;\n",
       "    display: inline-block;\n",
       "    width: 14px;\n",
       "    height: 14px;\n",
       "    cursor: pointer;\n",
       "}\n",
       "</style><body><div id=\"sk-container-id-3\" class=\"sk-top-container\"><div class=\"sk-text-repr-fallback\"><pre>GaussianNB()</pre><b>In a Jupyter environment, please rerun this cell to show the HTML representation or trust the notebook. <br />On GitHub, the HTML representation is unable to render, please try loading this page with nbviewer.org.</b></div><div class=\"sk-container\" hidden><div class=\"sk-item\"><div class=\"sk-estimator fitted sk-toggleable\"><input class=\"sk-toggleable__control sk-hidden--visually\" id=\"sk-estimator-id-3\" type=\"checkbox\" checked><label for=\"sk-estimator-id-3\" class=\"sk-toggleable__label fitted sk-toggleable__label-arrow\"><div><div>GaussianNB</div></div><div><a class=\"sk-estimator-doc-link fitted\" rel=\"noreferrer\" target=\"_blank\" href=\"https://scikit-learn.org/1.7/modules/generated/sklearn.naive_bayes.GaussianNB.html\">?<span>Documentation for GaussianNB</span></a><span class=\"sk-estimator-doc-link fitted\">i<span>Fitted</span></span></div></label><div class=\"sk-toggleable__content fitted\" data-param-prefix=\"\">\n",
       "        <div class=\"estimator-table\">\n",
       "            <details>\n",
       "                <summary>Parameters</summary>\n",
       "                <table class=\"parameters-table\">\n",
       "                  <tbody>\n",
       "                    \n",
       "        <tr class=\"default\">\n",
       "            <td><i class=\"copy-paste-icon\"\n",
       "                 onclick=\"copyToClipboard('priors',\n",
       "                          this.parentElement.nextElementSibling)\"\n",
       "            ></i></td>\n",
       "            <td class=\"param\">priors&nbsp;</td>\n",
       "            <td class=\"value\">None</td>\n",
       "        </tr>\n",
       "    \n",
       "\n",
       "        <tr class=\"default\">\n",
       "            <td><i class=\"copy-paste-icon\"\n",
       "                 onclick=\"copyToClipboard('var_smoothing',\n",
       "                          this.parentElement.nextElementSibling)\"\n",
       "            ></i></td>\n",
       "            <td class=\"param\">var_smoothing&nbsp;</td>\n",
       "            <td class=\"value\">1e-09</td>\n",
       "        </tr>\n",
       "    \n",
       "                  </tbody>\n",
       "                </table>\n",
       "            </details>\n",
       "        </div>\n",
       "    </div></div></div></div></div><script>function copyToClipboard(text, element) {\n",
       "    // Get the parameter prefix from the closest toggleable content\n",
       "    const toggleableContent = element.closest('.sk-toggleable__content');\n",
       "    const paramPrefix = toggleableContent ? toggleableContent.dataset.paramPrefix : '';\n",
       "    const fullParamName = paramPrefix ? `${paramPrefix}${text}` : text;\n",
       "\n",
       "    const originalStyle = element.style;\n",
       "    const computedStyle = window.getComputedStyle(element);\n",
       "    const originalWidth = computedStyle.width;\n",
       "    const originalHTML = element.innerHTML.replace('Copied!', '');\n",
       "\n",
       "    navigator.clipboard.writeText(fullParamName)\n",
       "        .then(() => {\n",
       "            element.style.width = originalWidth;\n",
       "            element.style.color = 'green';\n",
       "            element.innerHTML = \"Copied!\";\n",
       "\n",
       "            setTimeout(() => {\n",
       "                element.innerHTML = originalHTML;\n",
       "                element.style = originalStyle;\n",
       "            }, 2000);\n",
       "        })\n",
       "        .catch(err => {\n",
       "            console.error('Failed to copy:', err);\n",
       "            element.style.color = 'red';\n",
       "            element.innerHTML = \"Failed!\";\n",
       "            setTimeout(() => {\n",
       "                element.innerHTML = originalHTML;\n",
       "                element.style = originalStyle;\n",
       "            }, 2000);\n",
       "        });\n",
       "    return false;\n",
       "}\n",
       "\n",
       "document.querySelectorAll('.fa-regular.fa-copy').forEach(function(element) {\n",
       "    const toggleableContent = element.closest('.sk-toggleable__content');\n",
       "    const paramPrefix = toggleableContent ? toggleableContent.dataset.paramPrefix : '';\n",
       "    const paramName = element.parentElement.nextElementSibling.textContent.trim();\n",
       "    const fullParamName = paramPrefix ? `${paramPrefix}${paramName}` : paramName;\n",
       "\n",
       "    element.setAttribute('title', fullParamName);\n",
       "});\n",
       "</script></body>"
      ],
      "text/plain": [
       "GaussianNB()"
      ]
     },
     "execution_count": 30,
     "metadata": {},
     "output_type": "execute_result"
    }
   ],
   "source": [
    "# TF-IDF\n",
    "tfidf_rocchio_classifier = NearestCentroid()\n",
    "tfidf_rocchio_classifier.fit(X_tfidf_train, y_train)\n",
    "\n",
    "tfidf_knearest_classifier = KNeighborsClassifier(n_neighbors=10)\n",
    "tfidf_knearest_classifier.fit(X_tfidf_train, y_train)\n",
    "\n",
    "tfidf_nb_classifier = GaussianNB()\n",
    "tfidf_nb_classifier.fit(X_tfidf_train, y_train)\n",
    "\n",
    "# Word2vec\n",
    "word2vec_rocchio_classifier = NearestCentroid()\n",
    "word2vec_rocchio_classifier.fit(X_word2vec_train, y_train)\n",
    "\n",
    "word2vec_knearest_classifier = KNeighborsClassifier(n_neighbors=10)\n",
    "word2vec_knearest_classifier.fit(X_word2vec_train, y_train)\n",
    "\n",
    "word2vec_nb_classifier = GaussianNB()\n",
    "word2vec_nb_classifier.fit(X_word2vec_train, y_train)\n",
    "\n",
    "# Doc2vec\n",
    "doc2vec_rocchio_classifier = NearestCentroid()\n",
    "doc2vec_rocchio_classifier.fit(X_doc2vec_train, y_train)\n",
    "\n",
    "doc2vec_knearest_classifier = KNeighborsClassifier(n_neighbors=10)\n",
    "doc2vec_knearest_classifier.fit(X_doc2vec_train, y_train)\n",
    "\n",
    "doc2vec_nb_classifier = GaussianNB()\n",
    "doc2vec_nb_classifier.fit(X_doc2vec_train, y_train)"
   ]
  },
  {
   "cell_type": "markdown",
   "id": "51387814",
   "metadata": {
    "id": "51387814"
   },
   "source": [
    "### 4. Đánh giá mô hình\n"
   ]
  },
  {
   "cell_type": "markdown",
   "id": "bb17a73c",
   "metadata": {
    "id": "bb17a73c"
   },
   "source": [
    "#### Tf-idf\n"
   ]
  },
  {
   "cell_type": "code",
   "execution_count": 31,
   "id": "653c5117",
   "metadata": {
    "id": "653c5117"
   },
   "outputs": [],
   "source": [
    "def evaluate(model, X_test, y_test, feature, algorithm, display_labels = df[\"label\"].unique(), average = 'micro'):\n",
    "    y_pred = model.predict(X_test)\n",
    "\n",
    "    f1 = recall_score(y_test, y_pred, average=average)\n",
    "    precision = recall_score(y_test, y_pred, average=average)\n",
    "    recall = recall_score(y_test, y_pred, average=average)\n",
    "    cm = confusion_matrix(y_test, y_pred)\n",
    "\n",
    "    print(\"=\" * 60)\n",
    "    print(f\"Evaluation for model with feature {feature} & algorithm {algorithm}\")\n",
    "    print(\"=\" * 60)\n",
    "\n",
    "    print(f\"f1: {f1}\")\n",
    "    print(f\"Precision: {precision}\")\n",
    "    print(f\"Recall: {recall}\")\n",
    "\n",
    "    disp = ConfusionMatrixDisplay(confusion_matrix=cm, display_labels=display_labels)\n",
    "\n",
    "    # Plot the confusion matrix\n",
    "    disp.plot()\n",
    "\n",
    "    # Optional: Customize the plot\n",
    "    disp.ax_.set_title(f\"{feature} - {algorithm}\")\n",
    "    plt.show()"
   ]
  },
  {
   "cell_type": "markdown",
   "id": "d114c3ac",
   "metadata": {
    "id": "d114c3ac"
   },
   "source": [
    "#### Tf-idf\n"
   ]
  },
  {
   "cell_type": "code",
   "execution_count": 32,
   "id": "3f9e2762",
   "metadata": {
    "colab": {
     "base_uri": "https://localhost:8080/",
     "height": 1000
    },
    "id": "3f9e2762",
    "outputId": "4ee90ab8-d99a-48c7-fcd6-baa5f20f2f89"
   },
   "outputs": [
    {
     "name": "stdout",
     "output_type": "stream",
     "text": [
      "============================================================\n",
      "Evaluation for model with feature TF-IDF & algorithm Rocchio\n",
      "============================================================\n",
      "f1: 0.9603960396039604\n",
      "Precision: 0.9603960396039604\n",
      "Recall: 0.9603960396039604\n"
     ]
    },
    {
     "data": {
      "image/png": "[encoded data removed]",
      "text/plain": [
       "<Figure size 640x480 with 2 Axes>"
      ]
     },
     "metadata": {},
     "output_type": "display_data"
    },
    {
     "name": "stdout",
     "output_type": "stream",
     "text": [
      "============================================================\n",
      "Evaluation for model with feature TF-IDF & algorithm K-nearest\n",
      "============================================================\n",
      "f1: 0.9504950495049505\n",
      "Precision: 0.9504950495049505\n",
      "Recall: 0.9504950495049505\n"
     ]
    },
    {
     "data": {
      "image/png": "[encoded data removed]",
      "text/plain": [
       "<Figure size 640x480 with 2 Axes>"
      ]
     },
     "metadata": {},
     "output_type": "display_data"
    },
    {
     "name": "stdout",
     "output_type": "stream",
     "text": [
      "============================================================\n",
      "Evaluation for model with feature TF-IDF & algorithm Naive Bayes\n",
      "============================================================\n",
      "f1: 0.8613861386138614\n",
      "Precision: 0.8613861386138614\n",
      "Recall: 0.8613861386138614\n"
     ]
    },
    {
     "data": {
      "image/png": "[encoded data removed]",
      "text/plain": [
       "<Figure size 640x480 with 2 Axes>"
      ]
     },
     "metadata": {},
     "output_type": "display_data"
    }
   ],
   "source": [
    "evaluate(tfidf_rocchio_classifier, X_tfidf_test, y_test, \"TF-IDF\", \"Rocchio\")\n",
    "evaluate(tfidf_knearest_classifier, X_tfidf_test, y_test, \"TF-IDF\", \"K-nearest\")\n",
    "evaluate(tfidf_nb_classifier, X_tfidf_test, y_test, \"TF-IDF\", \"Naive Bayes\")"
   ]
  },
  {
   "cell_type": "markdown",
   "id": "08e6f62c",
   "metadata": {
    "id": "08e6f62c"
   },
   "source": [
    "#### Word2vec\n"
   ]
  },
  {
   "cell_type": "code",
   "execution_count": 17,
   "id": "97ab2b3a",
   "metadata": {
    "colab": {
     "base_uri": "https://localhost:8080/",
     "height": 1000
    },
    "id": "97ab2b3a",
    "outputId": "4a50e141-33f9-4aa7-ff27-5527537391ed"
   },
   "outputs": [
    {
     "name": "stdout",
     "output_type": "stream",
     "text": [
      "============================================================\n",
      "Evaluation for model with feature Word2vec & algorithm Rocchio\n",
      "============================================================\n",
      "f1: 0.8316831683168316\n",
      "Precision: 0.8316831683168316\n",
      "Recall: 0.8316831683168316\n"
     ]
    },
    {
     "data": {
      "image/png": "[encoded data removed]",
      "text/plain": [
       "<Figure size 640x480 with 2 Axes>"
      ]
     },
     "metadata": {},
     "output_type": "display_data"
    },
    {
     "name": "stdout",
     "output_type": "stream",
     "text": [
      "============================================================\n",
      "Evaluation for model with feature Word2vec & algorithm K-nearest\n",
      "============================================================\n",
      "f1: 0.8811881188118812\n",
      "Precision: 0.8811881188118812\n",
      "Recall: 0.8811881188118812\n"
     ]
    },
    {
     "data": {
      "image/png": "[encoded data removed]",
      "text/plain": [
       "<Figure size 640x480 with 2 Axes>"
      ]
     },
     "metadata": {},
     "output_type": "display_data"
    },
    {
     "name": "stdout",
     "output_type": "stream",
     "text": [
      "============================================================\n",
      "Evaluation for model with feature Word2vec & algorithm Naive Bayes\n",
      "============================================================\n",
      "f1: 0.8514851485148515\n",
      "Precision: 0.8514851485148515\n",
      "Recall: 0.8514851485148515\n"
     ]
    },
    {
     "data": {
      "image/png": "[encoded data removed]",
      "text/plain": [
       "<Figure size 640x480 with 2 Axes>"
      ]
     },
     "metadata": {},
     "output_type": "display_data"
    }
   ],
   "source": [
    "evaluate(word2vec_rocchio_classifier, X_word2vec_test, y_test, \"Word2vec\", \"Rocchio\")\n",
    "evaluate(word2vec_knearest_classifier, X_word2vec_test, y_test, \"Word2vec\", \"K-nearest\")\n",
    "evaluate(word2vec_nb_classifier, X_word2vec_test, y_test, \"Word2vec\", \"Naive Bayes\")"
   ]
  },
  {
   "cell_type": "markdown",
   "id": "c05d0a5a",
   "metadata": {
    "id": "c05d0a5a"
   },
   "source": [
    "#### Doc2vec\n"
   ]
  },
  {
   "cell_type": "code",
   "execution_count": 18,
   "id": "22e9e114",
   "metadata": {
    "colab": {
     "base_uri": "https://localhost:8080/",
     "height": 1000
    },
    "id": "22e9e114",
    "outputId": "47451f99-8bdf-4f43-d992-a907906832b0"
   },
   "outputs": [
    {
     "name": "stdout",
     "output_type": "stream",
     "text": [
      "============================================================\n",
      "Evaluation for model with feature Doc2vec & algorithm Rocchio\n",
      "============================================================\n",
      "f1: 0.6831683168316832\n",
      "Precision: 0.6831683168316832\n",
      "Recall: 0.6831683168316832\n"
     ]
    },
    {
     "data": {
      "image/png": "[encoded data removed]",
      "text/plain": [
       "<Figure size 640x480 with 2 Axes>"
      ]
     },
     "metadata": {},
     "output_type": "display_data"
    },
    {
     "name": "stdout",
     "output_type": "stream",
     "text": [
      "============================================================\n",
      "Evaluation for model with feature Doc2vec & algorithm K-nearest\n",
      "============================================================\n",
      "f1: 0.5445544554455446\n",
      "Precision: 0.5445544554455446\n",
      "Recall: 0.5445544554455446\n"
     ]
    },
    {
     "data": {
      "image/png": "[encoded data removed]",
      "text/plain": [
       "<Figure size 640x480 with 2 Axes>"
      ]
     },
     "metadata": {},
     "output_type": "display_data"
    },
    {
     "name": "stdout",
     "output_type": "stream",
     "text": [
      "============================================================\n",
      "Evaluation for model with feature Doc2vec & algorithm Naive Bayes\n",
      "============================================================\n",
      "f1: 0.3465346534653465\n",
      "Precision: 0.3465346534653465\n",
      "Recall: 0.3465346534653465\n"
     ]
    },
    {
     "data": {
      "image/png": "[encoded data removed]",
      "text/plain": [
       "<Figure size 640x480 with 2 Axes>"
      ]
     },
     "metadata": {},
     "output_type": "display_data"
    }
   ],
   "source": [
    "evaluate(doc2vec_rocchio_classifier, X_doc2vec_test, y_test, \"Doc2vec\", \"Rocchio\")\n",
    "evaluate(doc2vec_knearest_classifier, X_doc2vec_test, y_test, \"Doc2vec\", \"K-nearest\")\n",
    "evaluate(doc2vec_nb_classifier, X_doc2vec_test, y_test, \"Doc2vec\", \"Naive Bayes\")"
   ]
  },
  {
   "cell_type": "markdown",
   "id": "2fce339f",
   "metadata": {
    "id": "2fce339f"
   },
   "source": [
    "#### Đánh giá kết quả\n",
    "\n",
    "- Mô hình đự đoán với 5 class\n",
    "\n",
    "- Mô hình **TF-IDF** hoạt động tốt hơn **Word2vec**, tốt hơn **Doc2vec**\n",
    "\n",
    "- Nguyên nhân:\n",
    "\n",
    "  - Mô hình **Word2vec** và **Doc2vec** tự train trên tập dữ liệu đang xét, có số lượng khác ít ỏi\n",
    "  - Mô hình **Word2vec** lấy trung bình cộng vector các từ nên không lấy được ngữ cảnh\n",
    "  - Mô hình **Doc2vec** hoạt động trên cả bộ dữ liệu nên đòi hỏi số lượng tài liệu để train đặc biệt nhiều để đạt hiệu quả, trong khi bộ dữ liệu đang xét chỉ gồm ~500 từ\n",
    "\n",
    "- Cải tiến\n",
    "  - Dữ liệu cần nhiều hơn (craw dữ liệu nhiều hơn cho các class)\n"
   ]
  }
 ],
 "metadata": {
  "colab": {
   "provenance": [],
   "toc_visible": true
  },
  "kernelspec": {
   "display_name": ".venv",
   "language": "python",
   "name": "python3"
  },
  "language_info": {
   "codemirror_mode": {
    "name": "ipython",
    "version": 3
   },
   "file_extension": ".py",
   "mimetype": "text/x-python",
   "name": "python",
   "nbconvert_exporter": "python",
   "pygments_lexer": "ipython3",
   "version": "3.12.1"
  }
 },
 "nbformat": 4,
 "nbformat_minor": 5
}
